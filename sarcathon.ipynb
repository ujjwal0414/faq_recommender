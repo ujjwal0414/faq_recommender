{
  "nbformat": 4,
  "nbformat_minor": 0,
  "metadata": {
    "colab": {
      "provenance": []
    },
    "kernelspec": {
      "name": "python3",
      "display_name": "Python 3"
    },
    "language_info": {
      "name": "python"
    }
  },
  "cells": [
    {
      "cell_type": "code",
      "source": [
        "!pip install fuzzywuzzy\n",
        "!pip install python-Levenshtein"
      ],
      "metadata": {
        "colab": {
          "base_uri": "https://localhost:8080/"
        },
        "id": "xFD-SZwQ2srz",
        "outputId": "d7cf7654-0be9-4a4d-8410-c9040ee1b631"
      },
      "execution_count": null,
      "outputs": [
        {
          "output_type": "stream",
          "name": "stdout",
          "text": [
            "Collecting fuzzywuzzy\n",
            "  Downloading fuzzywuzzy-0.18.0-py2.py3-none-any.whl.metadata (4.9 kB)\n",
            "Downloading fuzzywuzzy-0.18.0-py2.py3-none-any.whl (18 kB)\n",
            "Installing collected packages: fuzzywuzzy\n",
            "Successfully installed fuzzywuzzy-0.18.0\n",
            "Collecting python-Levenshtein\n",
            "  Downloading python_Levenshtein-0.26.0-py3-none-any.whl.metadata (3.7 kB)\n",
            "Collecting Levenshtein==0.26.0 (from python-Levenshtein)\n",
            "  Downloading levenshtein-0.26.0-cp310-cp310-manylinux_2_17_x86_64.manylinux2014_x86_64.whl.metadata (3.2 kB)\n",
            "Collecting rapidfuzz<4.0.0,>=3.9.0 (from Levenshtein==0.26.0->python-Levenshtein)\n",
            "  Downloading rapidfuzz-3.10.0-cp310-cp310-manylinux_2_17_x86_64.manylinux2014_x86_64.whl.metadata (11 kB)\n",
            "Downloading python_Levenshtein-0.26.0-py3-none-any.whl (9.4 kB)\n",
            "Downloading levenshtein-0.26.0-cp310-cp310-manylinux_2_17_x86_64.manylinux2014_x86_64.whl (162 kB)\n",
            "\u001b[2K   \u001b[90m━━━━━━━━━━━━━━━━━━━━━━━━━━━━━━━━━━━━━━━━\u001b[0m \u001b[32m162.6/162.6 kB\u001b[0m \u001b[31m5.1 MB/s\u001b[0m eta \u001b[36m0:00:00\u001b[0m\n",
            "\u001b[?25hDownloading rapidfuzz-3.10.0-cp310-cp310-manylinux_2_17_x86_64.manylinux2014_x86_64.whl (3.1 MB)\n",
            "\u001b[2K   \u001b[90m━━━━━━━━━━━━━━━━━━━━━━━━━━━━━━━━━━━━━━━━\u001b[0m \u001b[32m3.1/3.1 MB\u001b[0m \u001b[31m18.1 MB/s\u001b[0m eta \u001b[36m0:00:00\u001b[0m\n",
            "\u001b[?25hInstalling collected packages: rapidfuzz, Levenshtein, python-Levenshtein\n",
            "Successfully installed Levenshtein-0.26.0 python-Levenshtein-0.26.0 rapidfuzz-3.10.0\n"
          ]
        }
      ]
    },
    {
      "cell_type": "code",
      "execution_count": null,
      "metadata": {
        "id": "TEZfMcZZkdoF"
      },
      "outputs": [],
      "source": [
        "import json\n",
        "import numpy as np\n",
        "import pandas as pd\n",
        "import string\n",
        "import nltk\n",
        "from textblob import TextBlob\n",
        "from sklearn.feature_extraction.text import TfidfVectorizer\n",
        "from gensim.models import Word2Vec, KeyedVectors\n",
        "from nltk.tokenize import word_tokenize\n",
        "from nltk.corpus import stopwords\n",
        "from nltk.stem import WordNetLemmatizer\n",
        "from sklearn.metrics.pairwise import cosine_similarity\n",
        "from sklearn.metrics.pairwise import cosine_similarity\n",
        "from fuzzywuzzy import process"
      ]
    },
    {
      "cell_type": "code",
      "source": [
        "df = json.load(open('/content/faqs.json', 'r'))\n",
        "df"
      ],
      "metadata": {
        "colab": {
          "base_uri": "https://localhost:8080/"
        },
        "id": "He58vNi7ku3e",
        "outputId": "efda310e-4b49-4466-fb0a-6eb99df61cec"
      },
      "execution_count": null,
      "outputs": [
        {
          "output_type": "execute_result",
          "data": {
            "text/plain": [
              "{'Admissions': [{'question': 'What is the process for admission into Saras AI Institute?',\n",
              "   'answer': 'The admission process at Saras AI Institute typically involves submitting the online application form along with necessary details, followed by a quick pre-Enrollment assessment to evaluate your candidature based on your personal traits and basic communication skills in English.'},\n",
              "  {'question': 'Is there an application fee for applying to Saras AI Institute?',\n",
              "   'answer': 'There is no application fee for applying to any program at Saras'},\n",
              "  {'question': 'What is pre-enrollment assessment test? How do I prepare for it?',\n",
              "   'answer': 'It is a fully online assessment which takes less than 15 minutes. It is designed to evaluate your personal traits and basic English communication skills. You can take it at the time of filling out the application. It idoes not require any specific preparation'},\n",
              "  {'question': 'Are there any specific requirements or prerequisites for admission into the programs?',\n",
              "   'answer': 'To be a successful professional in AI, you need to possess basic mathematical proficieny - which can be demonstrated by your math scores in high school or beyond. At Saras, you learn with global peers and faculties and should possess basic communication skills in English. These make up for the basic eligibility critera'},\n",
              "  {'question': 'When is the deadline for submitting the application?',\n",
              "   'answer': 'The deadline for submitting applications is 5th August 2024'}],\n",
              " 'Curriculum and Faculty': [{'question': 'What is the curriculum like at Saras AI Institute?',\n",
              "   'answer': 'The curriculum at Saras AI Institute helps impart essential technical as well as human skills. We have designed a role-based curriculum that prepares students for one of these in-demand roles: AI/ML Engineer; Data Scientist; Gen AI Engineer. The curriculum is designed to provide a comprehensive understanding of AI principles and practices, including hands-on projects and real-world applications. '},\n",
              "  {'question': 'What does the program structure look like, and how is the curriculum delivered?',\n",
              "   'answer': 'Each year is divided into 5 semesters which last for 8 weeks each. Our programs feature a mix of recorded and live sessions, allowing for flexibility in learning. '},\n",
              "  {'question': 'Can you provide more details about the role-based curriculum feature and how it benefits students?',\n",
              "   'answer': 'Our role-based curriculum is designed to provide targeted training and develop specialized skills in students that are highly relevant to their desired job-roles from day one.'},\n",
              "  {'question': 'Do you also conduct LIVE sessions?',\n",
              "   'answer': 'Live sessions are conducted regularly to supplement the recorded content and provide opportunities for interactive learning and Q& A sessions.You get to interact with instructors as well as your dedicated coach for any help that you might need'},\n",
              "  {'question': 'Can I transfer credits earned at other universities to Saras AI Institute?',\n",
              "   'answer': \"Yes, we evaluate the course that you have taken, if it overlaps with our curriculum and is relevant in today's time, we offer the flexibility of transfering credits\"},\n",
              "  {'question': 'Who are the faculty members at Saras AI Institute?',\n",
              "   'answer': 'The faculty at Saras AI Institute consists of industry professionals who bring the most relevant skills and mentorship for the students to help them prepare for exactly what is needed to succeed in the job roles they are preparing for'},\n",
              "  {'question': 'Can I connect with mentors outside of class?',\n",
              "   'answer': 'Yes, we encourage mentorship and provide opportunities for students to connect with mentors outside of class through live sessions as well as 24x7 mentor support to help resolve your doubts or queries.'}],\n",
              " 'Accreditation & Recognition': [{'question': 'Is Saras AI Institute accredited?',\n",
              "   'answer': 'No, we are not accredited yet. This is our first Enrollment cycle and there is a minimum period before an institute can get accredited. However, we do follow the highest standards in terms of the curriculum and pedagogy for our students to become the top AI professionals'},\n",
              "  {'question': 'Are the degree programs recognised by the government? ',\n",
              "   'answer': 'Yes, we are a state-approved degree granting institute based in the United States. '},\n",
              "  {'question': 'Do employers require an accredited degree? ',\n",
              "   'answer': ' An accredited degree is not an absolute requirement from employers. We ensure our students are among the most-skilled and ready individuals to crack the best of jobs'}],\n",
              " 'Career Services': [{'question': 'Does Saras AI Institute offer employment support?',\n",
              "   'answer': 'Yes, we provide comprehensive employment support including job placement services, resume building workshops, and interview preparation.'},\n",
              "  {'question': 'Does Saras have partnerships with employers? ',\n",
              "   'answer': 'Yes, we have partnered with top global companies to recruit our graduating students'},\n",
              "  {'question': ' Does the university offer internship placement assistance?',\n",
              "   'answer': 'Yes, we assist students in finding internships by connecting them with potential employers and offering guidance on applications and interviews.'}],\n",
              " 'Tuition fee and Scholarships': [{'question': 'Does Saras AI Institute offer any scholarships for students? How can I apply for them? ',\n",
              "   'answer': \"Yes, we offer various scholarships to eligible students based on academic merit, financial need, and other criteria. You can apply for scholarships after you're offered admission. Go ahead with filling out the application to check your eligibility.\"},\n",
              "  {'question': ' What are the tuition fees for your courses?',\n",
              "   'answer': \"You can find detailed information and breakdown of the fee on 'Programs' page on the website\"},\n",
              "  {'question': 'Are there any payment plans or options available for tuition fees? ',\n",
              "   'answer': 'Yes, we offer flexible payment plans to help students manage their tuition fees. At Saras AI Institute, you can pay your annual tuition fees in 5 installments, before the commencement of every semester.'},\n",
              "  {'question': 'Can I avail financial aid? ',\n",
              "   'answer': \"You currently can't get a federal aid for Saras AI Institute's programs. However, we are partnering with lenders who can help facilitate a loan to help pay the tuition.\"}]}"
            ]
          },
          "metadata": {},
          "execution_count": 4
        }
      ]
    },
    {
      "cell_type": "code",
      "source": [
        "questions = []\n",
        "answers = []\n",
        "\n",
        "for  domain, pairs in df.items():\n",
        "    for entry in pairs:\n",
        "      questions.append(entry['question'])\n",
        "      answers.append(entry['answer'])"
      ],
      "metadata": {
        "id": "I1NXQXvYoU7_"
      },
      "execution_count": null,
      "outputs": []
    },
    {
      "cell_type": "code",
      "source": [
        "questions"
      ],
      "metadata": {
        "colab": {
          "base_uri": "https://localhost:8080/"
        },
        "id": "sZAXbOs-orfY",
        "outputId": "572a90ca-1969-4ac7-bdea-fd86d4139e6c"
      },
      "execution_count": null,
      "outputs": [
        {
          "output_type": "execute_result",
          "data": {
            "text/plain": [
              "['What is the process for admission into Saras AI Institute?',\n",
              " 'Is there an application fee for applying to Saras AI Institute?',\n",
              " 'What is pre-enrollment assessment test? How do I prepare for it?',\n",
              " 'Are there any specific requirements or prerequisites for admission into the programs?',\n",
              " 'When is the deadline for submitting the application?',\n",
              " 'What is the curriculum like at Saras AI Institute?',\n",
              " 'What does the program structure look like, and how is the curriculum delivered?',\n",
              " 'Can you provide more details about the role-based curriculum feature and how it benefits students?',\n",
              " 'Do you also conduct LIVE sessions?',\n",
              " 'Can I transfer credits earned at other universities to Saras AI Institute?',\n",
              " 'Who are the faculty members at Saras AI Institute?',\n",
              " 'Can I connect with mentors outside of class?',\n",
              " 'Is Saras AI Institute accredited?',\n",
              " 'Are the degree programs recognised by the government? ',\n",
              " 'Do employers require an accredited degree? ',\n",
              " 'Does Saras AI Institute offer employment support?',\n",
              " 'Does Saras have partnerships with employers? ',\n",
              " ' Does the university offer internship placement assistance?',\n",
              " 'Does Saras AI Institute offer any scholarships for students? How can I apply for them? ',\n",
              " ' What are the tuition fees for your courses?',\n",
              " 'Are there any payment plans or options available for tuition fees? ',\n",
              " 'Can I avail financial aid? ']"
            ]
          },
          "metadata": {},
          "execution_count": 6
        }
      ]
    },
    {
      "cell_type": "code",
      "source": [
        "nltk.download('punkt')\n",
        "nltk.download('stopwords')\n",
        "nltk.download('wordnet')\n",
        "nltk.download('omw-1.4')"
      ],
      "metadata": {
        "colab": {
          "base_uri": "https://localhost:8080/"
        },
        "id": "byf3QPo_FwG_",
        "outputId": "9dc6cd17-14df-4faf-d74d-8a4cde6cb29a"
      },
      "execution_count": null,
      "outputs": [
        {
          "output_type": "stream",
          "name": "stderr",
          "text": [
            "[nltk_data] Downloading package punkt to /root/nltk_data...\n",
            "[nltk_data]   Unzipping tokenizers/punkt.zip.\n",
            "[nltk_data] Downloading package stopwords to /root/nltk_data...\n",
            "[nltk_data]   Unzipping corpora/stopwords.zip.\n",
            "[nltk_data] Downloading package wordnet to /root/nltk_data...\n",
            "[nltk_data] Downloading package omw-1.4 to /root/nltk_data...\n"
          ]
        },
        {
          "output_type": "execute_result",
          "data": {
            "text/plain": [
              "True"
            ]
          },
          "metadata": {},
          "execution_count": 7
        }
      ]
    },
    {
      "cell_type": "code",
      "source": [
        "stop_words = set(stopwords.words('english'))\n",
        "punctuations = string.punctuation"
      ],
      "metadata": {
        "id": "dEkvxcYfFsKx"
      },
      "execution_count": null,
      "outputs": []
    },
    {
      "cell_type": "code",
      "source": [
        "def preprocess_text(text):\n",
        "    if isinstance(text, list):\n",
        "        text = ' '.join(text)\n",
        "    tokens = word_tokenize(text.lower())\n",
        "    processed_tokens = [\n",
        "        word for word in tokens\n",
        "        if word.isalnum() and word not in stop_words\n",
        "    ]\n",
        "    return processed_tokens"
      ],
      "metadata": {
        "id": "8gOR2-gvrQ23"
      },
      "execution_count": null,
      "outputs": []
    },
    {
      "cell_type": "code",
      "source": [
        "!kaggle datasets download -d watts2/glove6b50dtxt\n",
        "!unzip /content/glove6b50dtxt.zip"
      ],
      "metadata": {
        "colab": {
          "base_uri": "https://localhost:8080/"
        },
        "id": "BhFjjcRwoh9S",
        "outputId": "c91da67a-3015-40bb-a312-14937e07b358"
      },
      "execution_count": null,
      "outputs": [
        {
          "output_type": "stream",
          "name": "stdout",
          "text": [
            "Dataset URL: https://www.kaggle.com/datasets/watts2/glove6b50dtxt\n",
            "License(s): CC0-1.0\n",
            "Downloading glove6b50dtxt.zip to /content\n",
            " 72% 49.0M/67.7M [00:00<00:00, 128MB/s]\n",
            "100% 67.7M/67.7M [00:00<00:00, 124MB/s]\n",
            "Archive:  /content/glove6b50dtxt.zip\n",
            "  inflating: glove.6B.50d.txt        \n"
          ]
        }
      ]
    },
    {
      "cell_type": "code",
      "source": [
        "def load_glove_model(glove_file):\n",
        "    embeddings = {}\n",
        "    with open(glove_file, 'r', encoding='utf-8') as f:\n",
        "        for line in f:\n",
        "            values = line.split()\n",
        "            word = values[0]\n",
        "            vector = np.asarray(values[1:], dtype='float32')\n",
        "            embeddings[word] = vector\n",
        "    print(f\"Loaded {len(embeddings)} word vectors.\")\n",
        "    return embeddings\n",
        "\n",
        "glove_embeddings = load_glove_model(\"/content/glove.6B.50d.txt\")"
      ],
      "metadata": {
        "id": "JXgyA7GzALLd",
        "colab": {
          "base_uri": "https://localhost:8080/"
        },
        "outputId": "90116c4e-9b6e-4265-b5af-2f204c958016"
      },
      "execution_count": null,
      "outputs": [
        {
          "output_type": "stream",
          "name": "stdout",
          "text": [
            "Loaded 400000 word vectors.\n"
          ]
        }
      ]
    },
    {
      "cell_type": "code",
      "source": [
        "embedding_dimension = 50"
      ],
      "metadata": {
        "id": "ErJFptm4XPZy"
      },
      "execution_count": null,
      "outputs": []
    },
    {
      "cell_type": "code",
      "source": [
        "def get_glove_sentence_vector(sentence, glove_embeddings, embedding_dim=embedding_dimension):\n",
        "    words = preprocess_text(sentence)\n",
        "    word_vectors = [glove_embeddings[word] for word in words if word in glove_embeddings]\n",
        "\n",
        "    if not word_vectors:\n",
        "        return np.zeros((embedding_dim,))\n",
        "\n",
        "    return np.mean(word_vectors, axis=0)"
      ],
      "metadata": {
        "id": "dAi4hUjFvppn"
      },
      "execution_count": null,
      "outputs": []
    },
    {
      "cell_type": "code",
      "source": [
        "get_glove_sentence_vector('how are the classes taken', glove_embeddings, embedding_dim = embedding_dimension)"
      ],
      "metadata": {
        "colab": {
          "base_uri": "https://localhost:8080/"
        },
        "id": "REOwDLTzDGK3",
        "outputId": "d7995c01-d743-4164-e71e-81be7c6ce3c7"
      },
      "execution_count": null,
      "outputs": [
        {
          "output_type": "execute_result",
          "data": {
            "text/plain": [
              "array([ 0.256795  ,  0.32986   , -0.472073  , -0.770145  ,  0.146318  ,\n",
              "       -0.084546  , -0.1996985 , -0.03827   , -0.15856001, -0.1157225 ,\n",
              "        0.23339   , -0.158088  ,  0.02433001, -0.1204015 ,  0.19311701,\n",
              "       -0.13117   , -0.42638502,  0.21665502, -0.1832225 , -0.42641503,\n",
              "        0.37863398,  0.377465  ,  0.2471665 ,  0.51135004, -0.038065  ,\n",
              "       -1.1330299 , -0.138971  , -0.554074  , -0.1686    , -0.13817151,\n",
              "        3.1283002 ,  0.3363515 , -0.485785  , -0.73368   ,  0.721085  ,\n",
              "        0.321835  ,  0.40797502,  0.35070002, -0.102921  ,  0.34120935,\n",
              "       -0.23449999, -0.43982968,  0.260965  ,  0.632208  ,  0.1407385 ,\n",
              "       -0.33499   ,  0.388705  , -0.158773  , -0.051145  , -0.01500499],\n",
              "      dtype=float32)"
            ]
          },
          "metadata": {},
          "execution_count": 14
        }
      ]
    },
    {
      "cell_type": "code",
      "source": [
        "question_vectors = np.array([get_glove_sentence_vector(q, glove_embeddings, embedding_dimension) for q in questions])\n",
        "\n",
        "def hybrid_search(user_query):\n",
        "    blob = TextBlob(user_query)\n",
        "    corrected_query = str(blob.correct())\n",
        "    processed_query = preprocess_text(corrected_query)\n",
        "    query_vector = get_glove_sentence_vector(processed_query, glove_embeddings, embedding_dimension)\n",
        "    semantic_scores = cosine_similarity([query_vector], question_vectors).flatten()\n",
        "    fuzzy_scores = np.array([process.extractOne(corrected_query, [q])[1] for q in questions]) / 100\n",
        "    combined_scores = semantic_scores*0.75 + fuzzy_scores*0.25\n",
        "\n",
        "    best_match_indices = np.argsort(combined_scores)[-5:][::-1]\n",
        "    for idx in best_match_indices:\n",
        "        print(f\"Question: {questions[idx]}\")\n",
        "        print(f\"Answer: {answers[idx]}\")\n",
        "        print()\n"
      ],
      "metadata": {
        "id": "Ehjn1CDWvuD3"
      },
      "execution_count": null,
      "outputs": []
    },
    {
      "cell_type": "code",
      "source": [
        "hybrid_search('how are the faculty at saras')"
      ],
      "metadata": {
        "colab": {
          "base_uri": "https://localhost:8080/"
        },
        "id": "PuoNm8Zj1ALF",
        "outputId": "8dfd9cf4-b80b-4e6f-c0a0-dde27fd76a8f"
      },
      "execution_count": null,
      "outputs": [
        {
          "output_type": "stream",
          "name": "stdout",
          "text": [
            "Question:  Does the university offer internship placement assistance?\n",
            "Answer: Yes, we assist students in finding internships by connecting them with potential employers and offering guidance on applications and interviews.\n",
            "\n",
            "Question: Who are the faculty members at Saras AI Institute?\n",
            "Answer: The faculty at Saras AI Institute consists of industry professionals who bring the most relevant skills and mentorship for the students to help them prepare for exactly what is needed to succeed in the job roles they are preparing for\n",
            "\n",
            "Question: Can I transfer credits earned at other universities to Saras AI Institute?\n",
            "Answer: Yes, we evaluate the course that you have taken, if it overlaps with our curriculum and is relevant in today's time, we offer the flexibility of transfering credits\n",
            "\n",
            "Question: Does Saras AI Institute offer any scholarships for students? How can I apply for them? \n",
            "Answer: Yes, we offer various scholarships to eligible students based on academic merit, financial need, and other criteria. You can apply for scholarships after you're offered admission. Go ahead with filling out the application to check your eligibility.\n",
            "\n",
            "Question: Are the degree programs recognised by the government? \n",
            "Answer: Yes, we are a state-approved degree granting institute based in the United States. \n",
            "\n"
          ]
        }
      ]
    },
    {
      "cell_type": "code",
      "source": [
        "hybrid_search('what is the duration of the program')"
      ],
      "metadata": {
        "colab": {
          "base_uri": "https://localhost:8080/"
        },
        "id": "lyMtNMMFqo8K",
        "outputId": "ea984eb6-24ae-4ce8-9619-69e23040c7a6"
      },
      "execution_count": null,
      "outputs": [
        {
          "output_type": "stream",
          "name": "stdout",
          "text": [
            "Question: Are there any specific requirements or prerequisites for admission into the programs?\n",
            "Answer: To be a successful professional in AI, you need to possess basic mathematical proficieny - which can be demonstrated by your math scores in high school or beyond. At Saras, you learn with global peers and faculties and should possess basic communication skills in English. These make up for the basic eligibility critera\n",
            "\n",
            "Question: Can you provide more details about the role-based curriculum feature and how it benefits students?\n",
            "Answer: Our role-based curriculum is designed to provide targeted training and develop specialized skills in students that are highly relevant to their desired job-roles from day one.\n",
            "\n",
            "Question:  Does the university offer internship placement assistance?\n",
            "Answer: Yes, we assist students in finding internships by connecting them with potential employers and offering guidance on applications and interviews.\n",
            "\n",
            "Question: What does the program structure look like, and how is the curriculum delivered?\n",
            "Answer: Each year is divided into 5 semesters which last for 8 weeks each. Our programs feature a mix of recorded and live sessions, allowing for flexibility in learning. \n",
            "\n",
            "Question: Is there an application fee for applying to Saras AI Institute?\n",
            "Answer: There is no application fee for applying to any program at Saras\n",
            "\n"
          ]
        }
      ]
    },
    {
      "cell_type": "code",
      "source": [
        "hybrid_search('do they provide financiial help')"
      ],
      "metadata": {
        "colab": {
          "base_uri": "https://localhost:8080/"
        },
        "id": "IPp6bhs5FG9H",
        "outputId": "795f7037-05a0-48f6-d408-aa51eca37a9a"
      },
      "execution_count": null,
      "outputs": [
        {
          "output_type": "stream",
          "name": "stdout",
          "text": [
            "Question: Can I avail financial aid? \n",
            "Answer: You currently can't get a federal aid for Saras AI Institute's programs. However, we are partnering with lenders who can help facilitate a loan to help pay the tuition.\n",
            "\n",
            "Question: Can you provide more details about the role-based curriculum feature and how it benefits students?\n",
            "Answer: Our role-based curriculum is designed to provide targeted training and develop specialized skills in students that are highly relevant to their desired job-roles from day one.\n",
            "\n",
            "Question: What is pre-enrollment assessment test? How do I prepare for it?\n",
            "Answer: It is a fully online assessment which takes less than 15 minutes. It is designed to evaluate your personal traits and basic English communication skills. You can take it at the time of filling out the application. It idoes not require any specific preparation\n",
            "\n",
            "Question: Does Saras AI Institute offer employment support?\n",
            "Answer: Yes, we provide comprehensive employment support including job placement services, resume building workshops, and interview preparation.\n",
            "\n",
            "Question:  Does the university offer internship placement assistance?\n",
            "Answer: Yes, we assist students in finding internships by connecting them with potential employers and offering guidance on applications and interviews.\n",
            "\n"
          ]
        }
      ]
    },
    {
      "cell_type": "code",
      "source": [
        "def get_glove_words_vector(sentence, glove_embeddings, embedding_dim=embedding_dimension):\n",
        "    words = preprocess_text(sentence)\n",
        "    word_vectors = np.array([glove_embeddings[word] for word in words if word in glove_embeddings])\n",
        "\n",
        "    if np.any(np.isnan(word_vectors)):\n",
        "        return np.zeros((embedding_dim,))\n",
        "\n",
        "    return word_vectors"
      ],
      "metadata": {
        "id": "l4siici0wj0Z"
      },
      "execution_count": null,
      "outputs": []
    },
    {
      "cell_type": "code",
      "source": [
        "preprocess_text('how are the classes taken')"
      ],
      "metadata": {
        "colab": {
          "base_uri": "https://localhost:8080/"
        },
        "id": "cCOdLMZFC-wc",
        "outputId": "e455392f-7721-4d46-bcca-8cf4eff4713e"
      },
      "execution_count": null,
      "outputs": [
        {
          "output_type": "execute_result",
          "data": {
            "text/plain": [
              "['classes', 'taken']"
            ]
          },
          "metadata": {},
          "execution_count": 20
        }
      ]
    },
    {
      "cell_type": "code",
      "source": [
        "get_glove_words_vector('how are the classes taken', glove_embeddings, embedding_dim = embedding_dimension)"
      ],
      "metadata": {
        "colab": {
          "base_uri": "https://localhost:8080/"
        },
        "id": "HhMVT_sfCvSE",
        "outputId": "ab84d214-71ce-44e5-96d1-ede27d8be2a9"
      },
      "execution_count": null,
      "outputs": [
        {
          "output_type": "execute_result",
          "data": {
            "text/plain": [
              "array([[-3.7814e-01,  8.6281e-01, -8.7393e-01, -9.4600e-01, -5.9824e-02,\n",
              "        -5.4972e-02,  8.7623e-02, -5.1979e-01, -5.3783e-01, -3.0595e-02,\n",
              "         2.6409e-01, -2.5853e-01,  3.6406e-01, -4.1203e-02, -2.7636e-02,\n",
              "        -5.0479e-01, -6.9142e-01,  9.4545e-01,  6.0625e-02, -5.5887e-01,\n",
              "         6.8805e-01,  2.2802e-01,  8.9393e-02,  1.2071e+00, -3.4111e-02,\n",
              "        -4.7886e-01,  6.2698e-02, -1.1058e+00, -4.8528e-01, -4.6123e-02,\n",
              "         3.1131e+00,  7.0984e-01, -5.4366e-01, -7.9435e-01,  1.1274e+00,\n",
              "         3.7786e-01,  1.9581e-01,  5.1234e-01, -2.8832e-02,  6.9193e-01,\n",
              "        -3.5761e-01, -8.7164e-01,  2.3947e-01,  1.1765e+00,  9.9807e-02,\n",
              "        -3.2057e-01,  1.1830e+00, -2.5024e-01, -3.2822e-01,  3.6105e-01],\n",
              "       [ 8.9173e-01, -2.0309e-01, -7.0216e-02, -5.9429e-01,  3.5246e-01,\n",
              "        -1.1412e-01, -4.8702e-01,  4.4325e-01,  2.2071e-01, -2.0085e-01,\n",
              "         2.0269e-01, -5.7646e-02, -3.1540e-01, -1.9960e-01,  4.1387e-01,\n",
              "         2.4245e-01, -1.6135e-01, -5.1214e-01, -4.2707e-01, -2.9396e-01,\n",
              "         6.9218e-02,  5.2691e-01,  4.0494e-01, -1.8440e-01, -4.2019e-02,\n",
              "        -1.7872e+00, -3.4064e-01, -2.3479e-03,  1.4808e-01, -2.3022e-01,\n",
              "         3.1435e+00, -3.7137e-02, -4.2791e-01, -6.7301e-01,  3.1477e-01,\n",
              "         2.6581e-01,  6.2014e-01,  1.8906e-01, -1.7701e-01, -9.5113e-03,\n",
              "        -1.1139e-01, -8.0193e-03,  2.8246e-01,  8.7916e-02,  1.8167e-01,\n",
              "        -3.4941e-01, -4.0559e-01, -6.7306e-02,  2.2593e-01, -3.9106e-01]],\n",
              "      dtype=float32)"
            ]
          },
          "metadata": {},
          "execution_count": 21
        }
      ]
    },
    {
      "cell_type": "code",
      "source": [
        "question_vectors = [get_glove_words_vector(q, glove_embeddings, embedding_dimension) for q in questions]\n",
        "\n",
        "def word_similarites_glove(user_query):\n",
        "    blob = TextBlob(user_query)\n",
        "    corrected_query = str(blob.correct())\n",
        "\n",
        "    query_vector = get_glove_words_vector(corrected_query, glove_embeddings)\n",
        "    query_normalised = query_vector/np.linalg.norm(query_vector, axis=1, keepdims=True)\n",
        "    max_length = max(len(q) for q in question_vectors)\n",
        "    question_array = np.array([np.pad(question, ((0, max_length - question.shape[0]), (0, 0)), mode='constant', constant_values=0) for question in question_vectors])\n",
        "    questions_normalised = question_array/np.linalg.norm(question_array, axis=2, keepdims=True)\n",
        "\n",
        "    similarity = np.tensordot(questions_normalised, query_normalised, axes=([-1], [-1]))\n",
        "    similarity = np.nan_to_num(similarity, nan=0)\n",
        "    similarity = similarity.reshape(22, -1)\n",
        "    similarity = np.mean(np.sort(similarity, axis=1)[:, -(max(2, len(query_vector))):], axis=1)\n",
        "\n",
        "    best_match_idx = np.argsort(similarity)[-5:][::-1]\n",
        "    for i in best_match_idx:\n",
        "        print(\"Question:\", questions[i])\n",
        "        print(\"Answer:\", answers[i])\n",
        "        print()"
      ],
      "metadata": {
        "id": "Fe-6DnhD6IiJ"
      },
      "execution_count": 48,
      "outputs": []
    },
    {
      "cell_type": "code",
      "source": [
        "word_similarites_glove('how are the faculty at saras')"
      ],
      "metadata": {
        "colab": {
          "base_uri": "https://localhost:8080/"
        },
        "id": "Y5wE4GxVJhuA",
        "outputId": "cc1df1cd-63db-4f88-94ff-c8c9edd760cf"
      },
      "execution_count": 49,
      "outputs": [
        {
          "output_type": "stream",
          "name": "stdout",
          "text": [
            "Question: Who are the faculty members at Saras AI Institute?\n",
            "Answer: The faculty at Saras AI Institute consists of industry professionals who bring the most relevant skills and mentorship for the students to help them prepare for exactly what is needed to succeed in the job roles they are preparing for\n",
            "\n",
            "Question: Can I transfer credits earned at other universities to Saras AI Institute?\n",
            "Answer: Yes, we evaluate the course that you have taken, if it overlaps with our curriculum and is relevant in today's time, we offer the flexibility of transfering credits\n",
            "\n",
            "Question: Does Saras AI Institute offer any scholarships for students? How can I apply for them? \n",
            "Answer: Yes, we offer various scholarships to eligible students based on academic merit, financial need, and other criteria. You can apply for scholarships after you're offered admission. Go ahead with filling out the application to check your eligibility.\n",
            "\n",
            "Question: Can you provide more details about the role-based curriculum feature and how it benefits students?\n",
            "Answer: Our role-based curriculum is designed to provide targeted training and develop specialized skills in students that are highly relevant to their desired job-roles from day one.\n",
            "\n",
            "Question: What is the curriculum like at Saras AI Institute?\n",
            "Answer: The curriculum at Saras AI Institute helps impart essential technical as well as human skills. We have designed a role-based curriculum that prepares students for one of these in-demand roles: AI/ML Engineer; Data Scientist; Gen AI Engineer. The curriculum is designed to provide a comprehensive understanding of AI principles and practices, including hands-on projects and real-world applications. \n",
            "\n"
          ]
        },
        {
          "output_type": "stream",
          "name": "stderr",
          "text": [
            "<ipython-input-48-179e658af873>:16: RuntimeWarning: invalid value encountered in divide\n",
            "  questions_normalised = question_array/np.linalg.norm(question_array, axis=2, keepdims=True)\n"
          ]
        }
      ]
    },
    {
      "cell_type": "code",
      "source": [
        "word_similarites_glove('do they provide financiial help')"
      ],
      "metadata": {
        "colab": {
          "base_uri": "https://localhost:8080/"
        },
        "id": "W3sydRSjX4CU",
        "outputId": "a82982ab-1bc2-4dd1-b7d7-adeaf1c341f2"
      },
      "execution_count": 50,
      "outputs": [
        {
          "output_type": "stream",
          "name": "stdout",
          "text": [
            "Question: Can I avail financial aid? \n",
            "Answer: You currently can't get a federal aid for Saras AI Institute's programs. However, we are partnering with lenders who can help facilitate a loan to help pay the tuition.\n",
            "\n",
            "Question: Can you provide more details about the role-based curriculum feature and how it benefits students?\n",
            "Answer: Our role-based curriculum is designed to provide targeted training and develop specialized skills in students that are highly relevant to their desired job-roles from day one.\n",
            "\n",
            "Question:  Does the university offer internship placement assistance?\n",
            "Answer: Yes, we assist students in finding internships by connecting them with potential employers and offering guidance on applications and interviews.\n",
            "\n",
            "Question: Does Saras AI Institute offer employment support?\n",
            "Answer: Yes, we provide comprehensive employment support including job placement services, resume building workshops, and interview preparation.\n",
            "\n",
            "Question: Are there any specific requirements or prerequisites for admission into the programs?\n",
            "Answer: To be a successful professional in AI, you need to possess basic mathematical proficieny - which can be demonstrated by your math scores in high school or beyond. At Saras, you learn with global peers and faculties and should possess basic communication skills in English. These make up for the basic eligibility critera\n",
            "\n"
          ]
        },
        {
          "output_type": "stream",
          "name": "stderr",
          "text": [
            "<ipython-input-48-179e658af873>:16: RuntimeWarning: invalid value encountered in divide\n",
            "  questions_normalised = question_array/np.linalg.norm(question_array, axis=2, keepdims=True)\n"
          ]
        }
      ]
    },
    {
      "cell_type": "code",
      "source": [
        "word_similarites_glove('what is the duration of the course')"
      ],
      "metadata": {
        "colab": {
          "base_uri": "https://localhost:8080/"
        },
        "id": "u8MCIP_kqhYT",
        "outputId": "2b19b06e-3854-438e-f8c2-a012beef907b"
      },
      "execution_count": 51,
      "outputs": [
        {
          "output_type": "stream",
          "name": "stdout",
          "text": [
            "Question: What does the program structure look like, and how is the curriculum delivered?\n",
            "Answer: Each year is divided into 5 semesters which last for 8 weeks each. Our programs feature a mix of recorded and live sessions, allowing for flexibility in learning. \n",
            "\n",
            "Question: Can I connect with mentors outside of class?\n",
            "Answer: Yes, we encourage mentorship and provide opportunities for students to connect with mentors outside of class through live sessions as well as 24x7 mentor support to help resolve your doubts or queries.\n",
            "\n",
            "Question:  What are the tuition fees for your courses?\n",
            "Answer: You can find detailed information and breakdown of the fee on 'Programs' page on the website\n",
            "\n",
            "Question: What is pre-enrollment assessment test? How do I prepare for it?\n",
            "Answer: It is a fully online assessment which takes less than 15 minutes. It is designed to evaluate your personal traits and basic English communication skills. You can take it at the time of filling out the application. It idoes not require any specific preparation\n",
            "\n",
            "Question: Does Saras AI Institute offer any scholarships for students? How can I apply for them? \n",
            "Answer: Yes, we offer various scholarships to eligible students based on academic merit, financial need, and other criteria. You can apply for scholarships after you're offered admission. Go ahead with filling out the application to check your eligibility.\n",
            "\n"
          ]
        },
        {
          "output_type": "stream",
          "name": "stderr",
          "text": [
            "<ipython-input-48-179e658af873>:16: RuntimeWarning: invalid value encountered in divide\n",
            "  questions_normalised = question_array/np.linalg.norm(question_array, axis=2, keepdims=True)\n"
          ]
        }
      ]
    },
    {
      "cell_type": "code",
      "source": [
        "import pickle\n",
        "with open('glove_embeddings.pkl', 'wb') as f:\n",
        "    pickle.dump(glove_embeddings, f)\n",
        "print(\"GloVe embeddings saved to glove_embeddings.pkl\")\n",
        "\n",
        "with open('faq_data.pkl', 'wb') as f:\n",
        "    pickle.dump((questions, answers, question_vectors), f)\n",
        "print(\"FAQ data saved to faq_data.pkl\")"
      ],
      "metadata": {
        "colab": {
          "base_uri": "https://localhost:8080/"
        },
        "id": "XSn46GpeJkYL",
        "outputId": "0ccd53fa-7339-4a4b-e8b0-ab1c3745eaab"
      },
      "execution_count": null,
      "outputs": [
        {
          "output_type": "stream",
          "name": "stdout",
          "text": [
            "GloVe embeddings saved to glove_embeddings.pkl\n",
            "FAQ data saved to faq_data.pkl\n"
          ]
        }
      ]
    },
    {
      "cell_type": "code",
      "source": [],
      "metadata": {
        "id": "J-8v_KP5DAja"
      },
      "execution_count": null,
      "outputs": []
    }
  ]
}